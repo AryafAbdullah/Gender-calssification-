{
 "cells": [
  {
   "cell_type": "code",
   "execution_count": 75,
   "id": "9c72a0fc",
   "metadata": {},
   "outputs": [],
   "source": [
    "#importing Libraries \n",
    "import pandas as pd \n",
    "import numpy as np \n",
    "import re #regular expression \n",
    "import nltk as nlp \n",
    "from nltk.corpus import stopwords\n",
    "from sklearn.feature_extraction.text import CountVectorizer\n",
    "from sklearn.model_selection import train_test_split \n",
    "from sklearn.ensemble import RandomForestClassifier\n",
    "from sklearn.metrics import confusion_matrix\n",
    "import matplotlib.pyplot as plt\n",
    "import seaborn as sns"
   ]
  },
  {
   "cell_type": "code",
   "execution_count": 76,
   "id": "98eb35a0",
   "metadata": {},
   "outputs": [
    {
     "data": {
      "text/html": [
       "<div>\n",
       "<style scoped>\n",
       "    .dataframe tbody tr th:only-of-type {\n",
       "        vertical-align: middle;\n",
       "    }\n",
       "\n",
       "    .dataframe tbody tr th {\n",
       "        vertical-align: top;\n",
       "    }\n",
       "\n",
       "    .dataframe thead th {\n",
       "        text-align: right;\n",
       "    }\n",
       "</style>\n",
       "<table border=\"1\" class=\"dataframe\">\n",
       "  <thead>\n",
       "    <tr style=\"text-align: right;\">\n",
       "      <th></th>\n",
       "      <th>_unit_id</th>\n",
       "      <th>_golden</th>\n",
       "      <th>_unit_state</th>\n",
       "      <th>_trusted_judgments</th>\n",
       "      <th>_last_judgment_at</th>\n",
       "      <th>gender</th>\n",
       "      <th>gender:confidence</th>\n",
       "      <th>profile_yn</th>\n",
       "      <th>profile_yn:confidence</th>\n",
       "      <th>created</th>\n",
       "      <th>...</th>\n",
       "      <th>profileimage</th>\n",
       "      <th>retweet_count</th>\n",
       "      <th>sidebar_color</th>\n",
       "      <th>text</th>\n",
       "      <th>tweet_coord</th>\n",
       "      <th>tweet_count</th>\n",
       "      <th>tweet_created</th>\n",
       "      <th>tweet_id</th>\n",
       "      <th>tweet_location</th>\n",
       "      <th>user_timezone</th>\n",
       "    </tr>\n",
       "  </thead>\n",
       "  <tbody>\n",
       "    <tr>\n",
       "      <th>0</th>\n",
       "      <td>815719226</td>\n",
       "      <td>False</td>\n",
       "      <td>finalized</td>\n",
       "      <td>3</td>\n",
       "      <td>10/26/15 23:24</td>\n",
       "      <td>male</td>\n",
       "      <td>1.0000</td>\n",
       "      <td>yes</td>\n",
       "      <td>1.0</td>\n",
       "      <td>12/5/13 1:48</td>\n",
       "      <td>...</td>\n",
       "      <td>https://pbs.twimg.com/profile_images/414342229...</td>\n",
       "      <td>0</td>\n",
       "      <td>FFFFFF</td>\n",
       "      <td>Robbie E Responds To Critics After Win Against...</td>\n",
       "      <td>NaN</td>\n",
       "      <td>110964</td>\n",
       "      <td>10/26/15 12:40</td>\n",
       "      <td>6.587300e+17</td>\n",
       "      <td>main; @Kan1shk3</td>\n",
       "      <td>Chennai</td>\n",
       "    </tr>\n",
       "    <tr>\n",
       "      <th>1</th>\n",
       "      <td>815719227</td>\n",
       "      <td>False</td>\n",
       "      <td>finalized</td>\n",
       "      <td>3</td>\n",
       "      <td>10/26/15 23:30</td>\n",
       "      <td>male</td>\n",
       "      <td>1.0000</td>\n",
       "      <td>yes</td>\n",
       "      <td>1.0</td>\n",
       "      <td>10/1/12 13:51</td>\n",
       "      <td>...</td>\n",
       "      <td>https://pbs.twimg.com/profile_images/539604221...</td>\n",
       "      <td>0</td>\n",
       "      <td>C0DEED</td>\n",
       "      <td>���It felt like they were my friends and I was...</td>\n",
       "      <td>NaN</td>\n",
       "      <td>7471</td>\n",
       "      <td>10/26/15 12:40</td>\n",
       "      <td>6.587300e+17</td>\n",
       "      <td>NaN</td>\n",
       "      <td>Eastern Time (US &amp; Canada)</td>\n",
       "    </tr>\n",
       "    <tr>\n",
       "      <th>2</th>\n",
       "      <td>815719228</td>\n",
       "      <td>False</td>\n",
       "      <td>finalized</td>\n",
       "      <td>3</td>\n",
       "      <td>10/26/15 23:33</td>\n",
       "      <td>male</td>\n",
       "      <td>0.6625</td>\n",
       "      <td>yes</td>\n",
       "      <td>1.0</td>\n",
       "      <td>11/28/14 11:30</td>\n",
       "      <td>...</td>\n",
       "      <td>https://pbs.twimg.com/profile_images/657330418...</td>\n",
       "      <td>1</td>\n",
       "      <td>C0DEED</td>\n",
       "      <td>i absolutely adore when louis starts the songs...</td>\n",
       "      <td>NaN</td>\n",
       "      <td>5617</td>\n",
       "      <td>10/26/15 12:40</td>\n",
       "      <td>6.587300e+17</td>\n",
       "      <td>clcncl</td>\n",
       "      <td>Belgrade</td>\n",
       "    </tr>\n",
       "    <tr>\n",
       "      <th>3</th>\n",
       "      <td>815719229</td>\n",
       "      <td>False</td>\n",
       "      <td>finalized</td>\n",
       "      <td>3</td>\n",
       "      <td>10/26/15 23:10</td>\n",
       "      <td>male</td>\n",
       "      <td>1.0000</td>\n",
       "      <td>yes</td>\n",
       "      <td>1.0</td>\n",
       "      <td>6/11/09 22:39</td>\n",
       "      <td>...</td>\n",
       "      <td>https://pbs.twimg.com/profile_images/259703936...</td>\n",
       "      <td>0</td>\n",
       "      <td>C0DEED</td>\n",
       "      <td>Hi @JordanSpieth - Looking at the url - do you...</td>\n",
       "      <td>NaN</td>\n",
       "      <td>1693</td>\n",
       "      <td>10/26/15 12:40</td>\n",
       "      <td>6.587300e+17</td>\n",
       "      <td>Palo Alto, CA</td>\n",
       "      <td>Pacific Time (US &amp; Canada)</td>\n",
       "    </tr>\n",
       "    <tr>\n",
       "      <th>4</th>\n",
       "      <td>815719230</td>\n",
       "      <td>False</td>\n",
       "      <td>finalized</td>\n",
       "      <td>3</td>\n",
       "      <td>10/27/15 1:15</td>\n",
       "      <td>female</td>\n",
       "      <td>1.0000</td>\n",
       "      <td>yes</td>\n",
       "      <td>1.0</td>\n",
       "      <td>4/16/14 13:23</td>\n",
       "      <td>...</td>\n",
       "      <td>https://pbs.twimg.com/profile_images/564094871...</td>\n",
       "      <td>0</td>\n",
       "      <td>0</td>\n",
       "      <td>Watching Neighbours on Sky+ catching up with t...</td>\n",
       "      <td>NaN</td>\n",
       "      <td>31462</td>\n",
       "      <td>10/26/15 12:40</td>\n",
       "      <td>6.587300e+17</td>\n",
       "      <td>NaN</td>\n",
       "      <td>NaN</td>\n",
       "    </tr>\n",
       "  </tbody>\n",
       "</table>\n",
       "<p>5 rows × 26 columns</p>\n",
       "</div>"
      ],
      "text/plain": [
       "    _unit_id  _golden _unit_state  _trusted_judgments _last_judgment_at  \\\n",
       "0  815719226    False   finalized                   3    10/26/15 23:24   \n",
       "1  815719227    False   finalized                   3    10/26/15 23:30   \n",
       "2  815719228    False   finalized                   3    10/26/15 23:33   \n",
       "3  815719229    False   finalized                   3    10/26/15 23:10   \n",
       "4  815719230    False   finalized                   3     10/27/15 1:15   \n",
       "\n",
       "   gender  gender:confidence profile_yn  profile_yn:confidence  \\\n",
       "0    male             1.0000        yes                    1.0   \n",
       "1    male             1.0000        yes                    1.0   \n",
       "2    male             0.6625        yes                    1.0   \n",
       "3    male             1.0000        yes                    1.0   \n",
       "4  female             1.0000        yes                    1.0   \n",
       "\n",
       "          created  ...                                       profileimage  \\\n",
       "0    12/5/13 1:48  ...  https://pbs.twimg.com/profile_images/414342229...   \n",
       "1   10/1/12 13:51  ...  https://pbs.twimg.com/profile_images/539604221...   \n",
       "2  11/28/14 11:30  ...  https://pbs.twimg.com/profile_images/657330418...   \n",
       "3   6/11/09 22:39  ...  https://pbs.twimg.com/profile_images/259703936...   \n",
       "4   4/16/14 13:23  ...  https://pbs.twimg.com/profile_images/564094871...   \n",
       "\n",
       "   retweet_count sidebar_color  \\\n",
       "0              0        FFFFFF   \n",
       "1              0        C0DEED   \n",
       "2              1        C0DEED   \n",
       "3              0        C0DEED   \n",
       "4              0             0   \n",
       "\n",
       "                                                text tweet_coord tweet_count  \\\n",
       "0  Robbie E Responds To Critics After Win Against...         NaN      110964   \n",
       "1  ���It felt like they were my friends and I was...         NaN        7471   \n",
       "2  i absolutely adore when louis starts the songs...         NaN        5617   \n",
       "3  Hi @JordanSpieth - Looking at the url - do you...         NaN        1693   \n",
       "4  Watching Neighbours on Sky+ catching up with t...         NaN       31462   \n",
       "\n",
       "    tweet_created      tweet_id   tweet_location               user_timezone  \n",
       "0  10/26/15 12:40  6.587300e+17  main; @Kan1shk3                     Chennai  \n",
       "1  10/26/15 12:40  6.587300e+17              NaN  Eastern Time (US & Canada)  \n",
       "2  10/26/15 12:40  6.587300e+17           clcncl                    Belgrade  \n",
       "3  10/26/15 12:40  6.587300e+17    Palo Alto, CA  Pacific Time (US & Canada)  \n",
       "4  10/26/15 12:40  6.587300e+17              NaN                         NaN  \n",
       "\n",
       "[5 rows x 26 columns]"
      ]
     },
     "execution_count": 76,
     "metadata": {},
     "output_type": "execute_result"
    }
   ],
   "source": [
    "#Read data from CSV file\n",
    "df = pd.read_csv(r\"C:\\Gender_classifier_project\\gender-classifier.csv\")\n",
    "df.head()"
   ]
  },
  {
   "cell_type": "code",
   "execution_count": 77,
   "id": "c3010021",
   "metadata": {},
   "outputs": [
    {
     "name": "stdout",
     "output_type": "stream",
     "text": [
      "<class 'pandas.core.frame.DataFrame'>\n",
      "RangeIndex: 20050 entries, 0 to 20049\n",
      "Data columns (total 26 columns):\n",
      " #   Column                 Non-Null Count  Dtype  \n",
      "---  ------                 --------------  -----  \n",
      " 0   _unit_id               20050 non-null  int64  \n",
      " 1   _golden                20050 non-null  bool   \n",
      " 2   _unit_state            20050 non-null  object \n",
      " 3   _trusted_judgments     20050 non-null  int64  \n",
      " 4   _last_judgment_at      20000 non-null  object \n",
      " 5   gender                 19953 non-null  object \n",
      " 6   gender:confidence      20024 non-null  float64\n",
      " 7   profile_yn             20050 non-null  object \n",
      " 8   profile_yn:confidence  20050 non-null  float64\n",
      " 9   created                20050 non-null  object \n",
      " 10  description            16306 non-null  object \n",
      " 11  fav_number             20050 non-null  int64  \n",
      " 12  gender_gold            50 non-null     object \n",
      " 13  link_color             20050 non-null  object \n",
      " 14  name                   20050 non-null  object \n",
      " 15  profile_yn_gold        50 non-null     object \n",
      " 16  profileimage           20050 non-null  object \n",
      " 17  retweet_count          20050 non-null  int64  \n",
      " 18  sidebar_color          20050 non-null  object \n",
      " 19  text                   20050 non-null  object \n",
      " 20  tweet_coord            159 non-null    object \n",
      " 21  tweet_count            20050 non-null  int64  \n",
      " 22  tweet_created          20050 non-null  object \n",
      " 23  tweet_id               20050 non-null  float64\n",
      " 24  tweet_location         12566 non-null  object \n",
      " 25  user_timezone          12252 non-null  object \n",
      "dtypes: bool(1), float64(3), int64(5), object(17)\n",
      "memory usage: 3.8+ MB\n"
     ]
    }
   ],
   "source": [
    "df.info()"
   ]
  },
  {
   "cell_type": "code",
   "execution_count": 35,
   "id": "05d76304",
   "metadata": {},
   "outputs": [
    {
     "data": {
      "text/plain": [
       "Index(['_unit_id', '_golden', '_unit_state', '_trusted_judgments',\n",
       "       '_last_judgment_at', 'gender', 'gender:confidence', 'profile_yn',\n",
       "       'profile_yn:confidence', 'created', 'description', 'fav_number',\n",
       "       'gender_gold', 'link_color', 'name', 'profile_yn_gold', 'profileimage',\n",
       "       'retweet_count', 'sidebar_color', 'text', 'tweet_coord', 'tweet_count',\n",
       "       'tweet_created', 'tweet_id', 'tweet_location', 'user_timezone'],\n",
       "      dtype='object')"
      ]
     },
     "execution_count": 35,
     "metadata": {},
     "output_type": "execute_result"
    }
   ],
   "source": [
    "df.columns"
   ]
  },
  {
   "cell_type": "code",
   "execution_count": 36,
   "id": "68873005",
   "metadata": {},
   "outputs": [],
   "source": [
    "#drop columns\n",
    "df.drop(['_unit_id', '_golden','_unit_state','_trusted_judgments','_last_judgment_at','profile_yn','profile_yn:confidence',\n",
    "         'user_timezone','created','fav_number', 'link_color', 'name',\n",
    "         'gender_gold','profile_yn_gold','profileimage',\n",
    "          'retweet_count', 'sidebar_color','tweet_coord',\n",
    "         'tweet_created','tweet_count','tweet_created', 'tweet_id', \n",
    "         'tweet_location', 'user_timezone'],\n",
    "        axis='columns', inplace=True)"
   ]
  },
  {
   "cell_type": "code",
   "execution_count": 37,
   "id": "d46de5f8",
   "metadata": {},
   "outputs": [
    {
     "data": {
      "text/plain": [
       "Index(['gender', 'gender:confidence', 'description', 'text'], dtype='object')"
      ]
     },
     "execution_count": 37,
     "metadata": {},
     "output_type": "execute_result"
    }
   ],
   "source": [
    "df.columns"
   ]
  },
  {
   "cell_type": "code",
   "execution_count": 38,
   "id": "d18ef167",
   "metadata": {},
   "outputs": [
    {
     "data": {
      "text/plain": [
       "(20050, 4)"
      ]
     },
     "execution_count": 38,
     "metadata": {},
     "output_type": "execute_result"
    }
   ],
   "source": [
    "df.shape"
   ]
  },
  {
   "cell_type": "code",
   "execution_count": 39,
   "id": "302f2084",
   "metadata": {},
   "outputs": [],
   "source": [
    "#Dropping Null values \n",
    "df.dropna(how='any',axis=0, inplace=True)"
   ]
  },
  {
   "cell_type": "code",
   "execution_count": 40,
   "id": "16ee942e",
   "metadata": {},
   "outputs": [
    {
     "data": {
      "text/plain": [
       "(16224, 4)"
      ]
     },
     "execution_count": 40,
     "metadata": {},
     "output_type": "execute_result"
    }
   ],
   "source": [
    "df.shape "
   ]
  },
  {
   "cell_type": "code",
   "execution_count": 41,
   "id": "a60ff542",
   "metadata": {},
   "outputs": [],
   "source": [
    "#Merge description and text on one column \n",
    "df[\"tweet\"] = df.description + df.text\n",
    "df[\"gender\"] = df.gender"
   ]
  },
  {
   "cell_type": "code",
   "execution_count": 42,
   "id": "9e3094fa",
   "metadata": {},
   "outputs": [
    {
     "data": {
      "text/html": [
       "<div>\n",
       "<style scoped>\n",
       "    .dataframe tbody tr th:only-of-type {\n",
       "        vertical-align: middle;\n",
       "    }\n",
       "\n",
       "    .dataframe tbody tr th {\n",
       "        vertical-align: top;\n",
       "    }\n",
       "\n",
       "    .dataframe thead th {\n",
       "        text-align: right;\n",
       "    }\n",
       "</style>\n",
       "<table border=\"1\" class=\"dataframe\">\n",
       "  <thead>\n",
       "    <tr style=\"text-align: right;\">\n",
       "      <th></th>\n",
       "      <th>gender</th>\n",
       "      <th>gender:confidence</th>\n",
       "      <th>description</th>\n",
       "      <th>text</th>\n",
       "      <th>tweet</th>\n",
       "    </tr>\n",
       "  </thead>\n",
       "  <tbody>\n",
       "    <tr>\n",
       "      <th>0</th>\n",
       "      <td>male</td>\n",
       "      <td>1.0000</td>\n",
       "      <td>i sing my own rhythm.</td>\n",
       "      <td>Robbie E Responds To Critics After Win Against...</td>\n",
       "      <td>i sing my own rhythm.Robbie E Responds To Crit...</td>\n",
       "    </tr>\n",
       "    <tr>\n",
       "      <th>1</th>\n",
       "      <td>male</td>\n",
       "      <td>1.0000</td>\n",
       "      <td>I'm the author of novels filled with family dr...</td>\n",
       "      <td>���It felt like they were my friends and I was...</td>\n",
       "      <td>I'm the author of novels filled with family dr...</td>\n",
       "    </tr>\n",
       "    <tr>\n",
       "      <th>2</th>\n",
       "      <td>male</td>\n",
       "      <td>0.6625</td>\n",
       "      <td>louis whining and squealing and all</td>\n",
       "      <td>i absolutely adore when louis starts the songs...</td>\n",
       "      <td>louis whining and squealing and alli absolutel...</td>\n",
       "    </tr>\n",
       "  </tbody>\n",
       "</table>\n",
       "</div>"
      ],
      "text/plain": [
       "  gender  gender:confidence  \\\n",
       "0   male             1.0000   \n",
       "1   male             1.0000   \n",
       "2   male             0.6625   \n",
       "\n",
       "                                         description  \\\n",
       "0                              i sing my own rhythm.   \n",
       "1  I'm the author of novels filled with family dr...   \n",
       "2                louis whining and squealing and all   \n",
       "\n",
       "                                                text  \\\n",
       "0  Robbie E Responds To Critics After Win Against...   \n",
       "1  ���It felt like they were my friends and I was...   \n",
       "2  i absolutely adore when louis starts the songs...   \n",
       "\n",
       "                                               tweet  \n",
       "0  i sing my own rhythm.Robbie E Responds To Crit...  \n",
       "1  I'm the author of novels filled with family dr...  \n",
       "2  louis whining and squealing and alli absolutel...  "
      ]
     },
     "execution_count": 42,
     "metadata": {},
     "output_type": "execute_result"
    }
   ],
   "source": [
    "df.head(3)"
   ]
  },
  {
   "cell_type": "code",
   "execution_count": 43,
   "id": "9ba9f8a3",
   "metadata": {},
   "outputs": [],
   "source": [
    "# To count the words \n",
    "get_female = df[\"gender\"] == \"female\"\n",
    "get_male = df[\"gender\"] == \"male\"\n",
    "get_brand = df[\"gender\"] == \"brand\""
   ]
  },
  {
   "cell_type": "code",
   "execution_count": 44,
   "id": "2918c343",
   "metadata": {},
   "outputs": [],
   "source": [
    "female_rows = df[get_female]\n",
    "male_rows = df[get_male]\n",
    "brand_rows = df[get_brand]"
   ]
  },
  {
   "cell_type": "code",
   "execution_count": 45,
   "id": "2929bbe5",
   "metadata": {
    "scrolled": true
   },
   "outputs": [
    {
     "name": "stdout",
     "output_type": "stream",
     "text": [
      "total female tweets:  5725\n",
      "total male tweets:    5469\n",
      "total brand tweets:   4328\n"
     ]
    }
   ],
   "source": [
    "print(\"total female tweets: \",female_rows.tweet.count())\n",
    "print(\"total male tweets:   \",male_rows.tweet.count())\n",
    "print(\"total brand tweets:  \",brand_rows.tweet.count())"
   ]
  },
  {
   "cell_type": "code",
   "execution_count": 46,
   "id": "a3b16181",
   "metadata": {},
   "outputs": [
    {
     "name": "stderr",
     "output_type": "stream",
     "text": [
      "C:\\Users\\Aryaf\\anaconda3\\lib\\site-packages\\pandas\\core\\generic.py:5494: SettingWithCopyWarning: \n",
      "A value is trying to be set on a copy of a slice from a DataFrame.\n",
      "Try using .loc[row_indexer,col_indexer] = value instead\n",
      "\n",
      "See the caveats in the documentation: https://pandas.pydata.org/pandas-docs/stable/user_guide/indexing.html#returning-a-view-versus-a-copy\n",
      "  self[name] = value\n"
     ]
    }
   ],
   "source": [
    "#labelling \n",
    "female_rows.gender = 0    \n",
    "male_rows.gender = 1     \n",
    "brand_rows.gender = 2    "
   ]
  },
  {
   "cell_type": "code",
   "execution_count": 47,
   "id": "420d98df",
   "metadata": {},
   "outputs": [],
   "source": [
    "#Word Normalization\n",
    "#Lemmatization is an organized and step-by-step process \n",
    "#of obtaining the root form of the word.\n",
    "lemma = nlp.WordNetLemmatizer()  "
   ]
  },
  {
   "cell_type": "code",
   "execution_count": 48,
   "id": "557f7056",
   "metadata": {},
   "outputs": [],
   "source": [
    "#create empty list , convert string into list by using for loop \n",
    "tweets_list = []          \n",
    "for each in df.tweet:\n",
    "    each = re.sub(\"[^a-zA-Z]\",\" \", str(each))                                        # clean unnecesarry chars\n",
    "    each = each.lower()                                                              # lowercase all\n",
    "    each = nlp.word_tokenize(each)                                                   # split all by tokenizing\n",
    "    each = [word for word in each if not word in set(stopwords.words(\"english\"))]    # delete stop words from array\n",
    "    each = [lemma.lemmatize(word) for word in each]                                  # lemmatize \"memories\" -> \"memory\"\n",
    "    each = \" \".join(each)                                                            # make them one string again\n",
    "    tweets_list.append(each)    "
   ]
  },
  {
   "cell_type": "code",
   "execution_count": 49,
   "id": "20387a1c",
   "metadata": {},
   "outputs": [
    {
     "data": {
      "text/plain": [
       "['sing rhythm robbie e responds critic win eddie edward worldtitleseries http co nsybbmvjkz',\n",
       " 'author novel filled family drama romance felt like friend living story http co arnge yhno retired ian http co cizcanpqfz',\n",
       " 'louis whining squealing alli absolutely adore louis start song hit hard feel good',\n",
       " 'mobile guy er shazam google kleiner perkins yahoo sprint pc airtouch air force stanford gsb uva dad husband brother golfer hi jordanspieth looking url use ifttt typically see advanced user pgatour http co h ou pe l',\n",
       " 'ricky wilson best frontman kaiser chief best band xxxx thank kaiser chief incredible year gig memory cherish always xxxxxxxwatching neighbour sky catching neighbs xxx xxx']"
      ]
     },
     "execution_count": 49,
     "metadata": {},
     "output_type": "execute_result"
    }
   ],
   "source": [
    "tweets_list[:5]"
   ]
  },
  {
   "cell_type": "code",
   "execution_count": 50,
   "id": "a59edd78",
   "metadata": {},
   "outputs": [],
   "source": [
    "#create bag of words\n",
    "max_features = 600\n",
    "count_vectorizer = CountVectorizer(max_features=max_features,stop_words = \"english\")\n",
    "sparce_matrix = count_vectorizer.fit_transform(tweets_list).toarray()\n",
    "words = count_vectorizer.get_feature_names()"
   ]
  },
  {
   "cell_type": "code",
   "execution_count": 87,
   "id": "0ffe5645",
   "metadata": {},
   "outputs": [
    {
     "data": {
      "text/plain": [
       "array([[0, 0, 0, ..., 0, 0, 0],\n",
       "       [0, 0, 0, ..., 0, 0, 0],\n",
       "       [0, 0, 0, ..., 0, 0, 0],\n",
       "       ...,\n",
       "       [0, 0, 0, ..., 0, 0, 0],\n",
       "       [0, 0, 0, ..., 0, 0, 0],\n",
       "       [0, 0, 0, ..., 0, 0, 0]], dtype=int64)"
      ]
     },
     "execution_count": 87,
     "metadata": {},
     "output_type": "execute_result"
    }
   ],
   "source": [
    "sparce_matrix = count_vectorizer.fit_transform(tweets_list).toarray()\n",
    "sparce_matrix"
   ]
  },
  {
   "cell_type": "code",
   "execution_count": 89,
   "id": "baf692a7",
   "metadata": {
    "scrolled": true
   },
   "outputs": [
    {
     "name": "stdout",
     "output_type": "stream",
     "text": [
      "Most used 600 words on all tweets: ['account', 'actually', 'age', 'air', 'album', 'amas', 'amazing', 'america', 'american', 'amp', 'animal', 'answer', 'app', 'apple', 'area', 'art', 'artist', 'ask', 'author', 'available', 'award', 'away', 'awesome', 'baby', 'bad', 'band', 'based', 'bc', 'beat', 'beautiful', 'beauty', 'bed', 'beer', 'believe', 'best', 'better', 'big', 'birthday', 'bit', 'bitch', 'black', 'blog', 'blogger', 'blue', 'body', 'book', 'booking', 'born', 'boy', 'brand', 'break', 'breaking', 'bring', 'brother', 'build', 'building', 'business', 'buy', 'called', 'came', 'cancer', 'car', 'card', 'care', 'cat', 'cause', 'ceo', 'chance', 'change', 'channel', 'character', 'check', 'chief', 'child', 'chill', 'christ', 'christian', 'city', 'class', 'click', 'club', 'coach', 'coffee', 'college', 'com', 'come', 'comic', 'coming', 'community', 'company', 'conservative', 'consultant', 'contact', 'content', 'continuous', 'cool', 'country', 'course', 'cover', 'crazy', 'creative', 'credit', 'culture', 'cup', 'currently', 'cut', 'cute', 'dad', 'daily', 'damn', 'dance', 'dark', 'data', 'date', 'day', 'dead', 'deal', 'design', 'designer', 'desk', 'development', 'die', 'different', 'digital', 'director', 'dj', 'dm', 'dog', 'dont', 'dream', 'drink', 'drive', 'dude', 'earth', 'easy', 'eat', 'editor', 'education', 'email', 'en', 'end', 'endorsement', 'english', 'enjoy', 'entertainment', 'enthusiast', 'entrepreneur', 'event', 'everyday', 'excited', 'experience', 'expert', 'eye', 'face', 'facebook', 'fact', 'fall', 'family', 'fan', 'far', 'fashion', 'father', 'favorite', 'feed', 'feel', 'feeling', 'feminist', 'fight', 'film', 'fine', 'fitness', 'follow', 'followed', 'follower', 'following', 'food', 'football', 'forever', 'forget', 'founder', 'free', 'friend', 'fuck', 'fucking', 'fun', 'funny', 'future', 'game', 'gamer', 'gay', 'geek', 'getting', 'gift', 'girl', 'global', 'gmail', 'goal', 'god', 'going', 'gon', 'gone', 'good', 'google', 'got', 'government', 'great', 'greatest', 'green', 'group', 'grow', 'gt', 'guy', 'hair', 'half', 'halloween', 'hand', 'happen', 'happiness', 'happy', 'hard', 'harry', 'hate', 'head', 'health', 'hear', 'heart', 'hell', 'hello', 'help', 'helping', 'hey', 'hi', 'high', 'history', 'hit', 'home', 'hope', 'host', 'hot', 'hour', 'house', 'http', 'huge', 'human', 'husband', 'idea', 'ig', 'im', 'independent', 'industry', 'info', 'information', 'instagram', 'internet', 'issue', 'james', 'jesus', 'job', 'john', 'join', 'journalist', 'kid', 'kind', 'king', 'know', 'la', 'lady', 'largest', 'latest', 'laugh', 'law', 'le', 'lead', 'leader', 'league', 'learn', 'learning', 'leave', 'left', 'let', 'life', 'lifestyle', 'light', 'like', 'line', 'link', 'listen', 'literally', 'little', 'live', 'living', 'local', 'lol', 'london', 'long', 'look', 'looking', 'lord', 'lost', 'lot', 'love', 'lover', 'loving', 'mad', 'major', 'make', 'making', 'man', 'management', 'manager', 'map', 'marketing', 'married', 'master', 'matter', 'maybe', 'mean', 'meat', 'medium', 'meet', 'member', 'men', 'met', 'mind', 'minute', 'miss', 'mobile', 'model', 'mom', 'moment', 'monday', 'money', 'month', 'morning', 'mother', 'movie', 'mum', 'music', 'musician', 'na', 'national', 'need', 'nerd', 'network', 'new', 'news', 'nice', 'nigga', 'night', 'non', 'north', 'number', 'offer', 'office', 'official', 'oh', 'old', 'onedirection', 'online', 'open', 'opinion', 'order', 'owner', 'page', 'parent', 'partner', 'party', 'passionate', 'past', 'peace', 'people', 'perfect', 'person', 'personal', 'phone', 'photo', 'photographer', 'photography', 'pic', 'pick', 'picture', 'piece', 'place', 'plan', 'play', 'player', 'playing', 'pm', 'point', 'politics', 'pop', 'post', 'power', 'pr', 'president', 'pretty', 'price', 'pro', 'probably', 'problem', 'producer', 'product', 'professional', 'project', 'proud', 'public', 'quality', 'queen', 'question', 'quote', 'radio', 'read', 'reader', 'reading', 'ready', 'real', 'really', 'reason', 'red', 'remember', 'research', 'rest', 'review', 'right', 'road', 'rock', 'room', 'rp', 'rt', 'run', 'running', 'sad', 'said', 'sale', 'save', 'saw', 'say', 'saying', 'sc', 'school', 'science', 'season', 'second', 'secret', 'seen', 'self', 'send', 'senior', 'series', 'service', 'set', 'sex', 'share', 'shit', 'shop', 'short', 'sign', 'simple', 'singer', 'single', 'sit', 'site', 'sleep', 'small', 'smile', 'snapchat', 'social', 'son', 'song', 'soon', 'sorry', 'soul', 'sound', 'source', 'south', 'space', 'special', 'sport', 'st', 'stand', 'star', 'start', 'started', 'state', 'stats', 'stay', 'step', 'stop', 'storage', 'store', 'story', 'street', 'strong', 'student', 'stuff', 'style', 'success', 'super', 'support', 'sure', 'sweet', 'ta', 'taken', 'taking', 'talk', 'talking', 'tax', 'tea', 'teacher', 'team', 'tech', 'technology', 'tell', 'th', 'thank', 'thanks', 'thing', 'think', 'thinking', 'thought', 'ticket', 'time', 'tip', 'today', 'told', 'tomorrow', 'tonight', 'took', 'tour', 'training', 'travel', 'true', 'trust', 'truth', 'try', 'trying', 'turn', 'tv', 'tweet', 'tweeting', 'twitter', 'uk', 'unit', 'united', 'university', 'update', 'ur', 'use', 'used', 'using', 'video', 'view', 'visit', 'voice', 'vote', 'voted', 'wait', 'walk', 'walking', 'wan', 'want', 'war', 'watch', 'watching', 'water', 'way', 'weather', 'web', 'website', 'week', 'weekend', 'welcome', 'went', 'west', 'white', 'wife', 'win', 'wine', 'winner', 'winning', 'wish', 'woman', 'word', 'work', 'working', 'world', 'worst', 'worth', 'write', 'writer', 'writing', 'wrong', 'ya', 'yeah', 'year', 'yes', 'yo', 'york', 'young', 'youtube']\n"
     ]
    }
   ],
   "source": [
    "print(\"Most used 600 words on all tweets:\",words[:600])"
   ]
  },
  {
   "cell_type": "code",
   "execution_count": 53,
   "id": "5fef0657",
   "metadata": {},
   "outputs": [],
   "source": [
    "#Train and test split \n",
    "y = df.gender.values\n",
    "x = sparce_matrix"
   ]
  },
  {
   "cell_type": "code",
   "execution_count": 54,
   "id": "5b511ff4",
   "metadata": {},
   "outputs": [],
   "source": [
    "train_x, test_x, train_y, test_y = train_test_split(x,y,test_size=0.2)  #80% , 20%\n",
    "\n",
    "#I am going to train some different classification algorithms\n",
    "#and at the end of this section I am going to determine\n",
    "#best classification algorithm for this dataset."
   ]
  },
  {
   "cell_type": "code",
   "execution_count": 55,
   "id": "c6c3d24c",
   "metadata": {},
   "outputs": [
    {
     "name": "stdout",
     "output_type": "stream",
     "text": [
      "0.22496147919876733\n"
     ]
    }
   ],
   "source": [
    "#Naive Bayes\n",
    "from sklearn.naive_bayes import GaussianNB\n",
    "NBC = GaussianNB()\n",
    "NBC.fit(train_x,train_y)\n",
    "print(NBC.score(test_x,test_y))"
   ]
  },
  {
   "cell_type": "code",
   "execution_count": 81,
   "id": "64879b8c",
   "metadata": {},
   "outputs": [
    {
     "data": {
      "text/plain": [
       "array([[558, 154, 129,   5],\n",
       "       [123, 765, 247,   5],\n",
       "       [179, 416, 501,   7],\n",
       "       [ 30,  81,  45,   0]], dtype=int64)"
      ]
     },
     "execution_count": 81,
     "metadata": {},
     "output_type": "execute_result"
    }
   ],
   "source": [
    "confusion_matrix(test_y, y_pred)"
   ]
  },
  {
   "cell_type": "code",
   "execution_count": 56,
   "id": "bbb40e0d",
   "metadata": {
    "scrolled": true
   },
   "outputs": [
    {
     "name": "stdout",
     "output_type": "stream",
     "text": [
      "0.5543913713405239\n"
     ]
    },
    {
     "name": "stderr",
     "output_type": "stream",
     "text": [
      "C:\\Users\\Aryaf\\anaconda3\\lib\\site-packages\\sklearn\\linear_model\\_logistic.py:763: ConvergenceWarning: lbfgs failed to converge (status=1):\n",
      "STOP: TOTAL NO. of ITERATIONS REACHED LIMIT.\n",
      "\n",
      "Increase the number of iterations (max_iter) or scale the data as shown in:\n",
      "    https://scikit-learn.org/stable/modules/preprocessing.html\n",
      "Please also refer to the documentation for alternative solver options:\n",
      "    https://scikit-learn.org/stable/modules/linear_model.html#logistic-regression\n",
      "  n_iter_i = _check_optimize_result(\n"
     ]
    }
   ],
   "source": [
    "#Logistic Regression\n",
    "from sklearn.linear_model import LogisticRegression\n",
    "LR = LogisticRegression()\n",
    "LR.fit(train_x,train_y)\n",
    "print(LR.score(test_x,test_y))"
   ]
  },
  {
   "cell_type": "code",
   "execution_count": 57,
   "id": "84cc9d2a",
   "metadata": {},
   "outputs": [
    {
     "name": "stdout",
     "output_type": "stream",
     "text": [
      "0.5463790446841295\n"
     ]
    }
   ],
   "source": [
    "#Random Forest Classification\n",
    "rfc = RandomForestClassifier(n_estimators = 100)\n",
    "rfc.fit(train_x,train_y)\n",
    "print (rfc.score(test_x,test_y))"
   ]
  },
  {
   "cell_type": "code",
   "execution_count": 58,
   "id": "83ec1796",
   "metadata": {},
   "outputs": [
    {
     "name": "stdout",
     "output_type": "stream",
     "text": [
      "Accuracy:  56.2095531587057\n"
     ]
    }
   ],
   "source": [
    "#MultinomialNB\n",
    "from sklearn.naive_bayes import MultinomialNB\n",
    "from sklearn.metrics import accuracy_score\n",
    "nb = MultinomialNB()\n",
    "nb.fit(train_x,train_y)\n",
    "y_pred = nb.predict(test_x)\n",
    "accuracy = 100.0 * accuracy_score(test_y, y_pred)\n",
    "print(\"Accuracy: \", accuracy)"
   ]
  },
  {
   "cell_type": "code",
   "execution_count": null,
   "id": "e0bfb942",
   "metadata": {},
   "outputs": [],
   "source": [
    "#MultinomialNB is the best!! "
   ]
  },
  {
   "cell_type": "code",
   "execution_count": 73,
   "id": "b4d08e86",
   "metadata": {},
   "outputs": [],
   "source": [
    "cm = confusion_matrix(test_y,y_pred)"
   ]
  },
  {
   "cell_type": "code",
   "execution_count": 74,
   "id": "c4b370cb",
   "metadata": {},
   "outputs": [
    {
     "data": {
      "image/png": "[encoded data removed]",
      "text/plain": [
       "<Figure size 432x288 with 1 Axes>"
      ]
     },
     "metadata": {
      "needs_background": "light"
     },
     "output_type": "display_data"
    }
   ],
   "source": [
    "sns.heatmap(cm,cbar=False,annot=True,cmap=\"Blues\",fmt=\"d\")\n",
    "plt.show()\n",
    "\n",
    "#Brand is easy to seperate but genders are relatively more complex "
   ]
  },
  {
   "cell_type": "code",
   "execution_count": 61,
   "id": "d2e40845",
   "metadata": {},
   "outputs": [
    {
     "data": {
      "text/plain": [
       "female     5725\n",
       "male       5469\n",
       "brand      4328\n",
       "unknown     702\n",
       "Name: gender, dtype: int64"
      ]
     },
     "execution_count": 61,
     "metadata": {},
     "output_type": "execute_result"
    }
   ],
   "source": [
    "#analysis\n",
    "df.gender.value_counts()"
   ]
  },
  {
   "cell_type": "code",
   "execution_count": 62,
   "id": "cb2b9ffb",
   "metadata": {},
   "outputs": [],
   "source": [
    "#drop unknown \n",
    "df.drop(index=df[df['gender'] == 'unknown'].index, inplace=True)"
   ]
  },
  {
   "cell_type": "code",
   "execution_count": 63,
   "id": "223f67a6",
   "metadata": {},
   "outputs": [
    {
     "data": {
      "text/plain": [
       "female    5725\n",
       "male      5469\n",
       "brand     4328\n",
       "Name: gender, dtype: int64"
      ]
     },
     "execution_count": 63,
     "metadata": {},
     "output_type": "execute_result"
    }
   ],
   "source": [
    "df.gender.value_counts()"
   ]
  },
  {
   "cell_type": "code",
   "execution_count": 93,
   "id": "3e9fd01c",
   "metadata": {},
   "outputs": [],
   "source": [
    "##clean text \n",
    "def cleaning(s):\n",
    "    s = str(s)\n",
    "    s = s.lower()\n",
    "    s = re.sub('\\s\\W',' ',s)\n",
    "    s = re.sub('\\W,\\s',' ',s)\n",
    "    s = re.sub(r'[^\\w]', ' ', s)\n",
    "    s = re.sub(\"\\d+\", \"\", s)\n",
    "    s = re.sub('\\s+',' ',s)\n",
    "    s = re.sub('[!@#$_]', '', s)\n",
    "    s = s.replace(\"co\",\"\")\n",
    "    s = s.replace(\"https\",\"\")\n",
    "    s = s.replace(\",\",\"\")\n",
    "    s = s.replace(\"[\\w*\",\" \")\n",
    "    return s\n",
    "\n",
    "df['Cleaning_text'] = [cleaning(s) for s in df['text']]\n",
    "df['Cleaning_description'] = [cleaning(s) for s in df['description']]\n",
    "\n",
    "stop = set(stopwords.words('english'))\n",
    "df['Cleaning_text'] = df['Cleaning_text'].str.lower().str.split()\n",
    "df['Cleaning_text'] = df['Cleaning_text'].apply(lambda x : [item for item in x if item not in stop])\n",
    "df['Cleaning_description'] = df['Cleaning_description'].str.lower().str.split()\n",
    "df['Cleaning_description'] = df['Cleaning_description'].apply(lambda x : [item for item in x if item not in stop])"
   ]
  },
  {
   "cell_type": "code",
   "execution_count": 94,
   "id": "ec94c777",
   "metadata": {},
   "outputs": [
    {
     "name": "stdout",
     "output_type": "stream",
     "text": [
      "famele words\n",
      "\n",
      "'like',      396\n",
      "'get',       309\n",
      "'one',       267\n",
      "'day',       243\n",
      "'go',        235\n",
      "'love',      231\n",
      "'amp',       195\n",
      "'people',    192\n",
      "'time',      190\n",
      "'last',      171\n",
      "'know',      170\n",
      "'new',       169\n",
      "'got',       155\n",
      "'make',      154\n",
      "'back',      152\n",
      "'best',      145\n",
      "'still',     141\n",
      "'want',      137\n",
      "'see',       136\n",
      "'u',         133\n",
      "dtype: int64\n",
      "\n",
      "male words\n",
      "\n",
      "'like',      320\n",
      "'get',       307\n",
      "'one',       209\n",
      "'new',       192\n",
      "'time',      187\n",
      "'go',        185\n",
      "'love',      171\n",
      "'people',    154\n",
      "'day',       152\n",
      "'see',       151\n",
      "'good',      150\n",
      "'amp',       148\n",
      "'know',      143\n",
      "'back',      139\n",
      "'would',     138\n",
      "'think',     133\n",
      "'make',      132\n",
      "'got',       130\n",
      "'last',      129\n",
      "'best',      126\n",
      "dtype: int64\n",
      "\n",
      "Brand words\n",
      "\n",
      "'weather',    2278\n",
      "['get',       1160\n",
      "'updates',    1145\n",
      "'channel']    1137\n",
      "'new',         193\n",
      "'amp',         189\n",
      "'us',          164\n",
      "'get',         162\n",
      "'like',        140\n",
      "'one',         126\n",
      "dtype: int64\n"
     ]
    }
   ],
   "source": [
    "#Word Frequency Count Based On Gender\n",
    "Male = df[df['gender'] == 'male']\n",
    "Female = df[df['gender'] == 'female']\n",
    "Brand = df[df['gender'] == 'brand']\n",
    "Male_Words = pd.Series(' '.join(Male['Cleaning_text'].astype(str)).lower().split(\" \")).value_counts()[:20]\n",
    "Female_Words = pd.Series(' '.join(Female['Cleaning_text'].astype(str)).lower().split(\" \")).value_counts()[:20]\n",
    "Brand_words = pd.Series(' '.join(Brand['Cleaning_text'].astype(str)).lower().split(\" \")).value_counts()[:10]\n",
    "\n",
    "\n",
    "print('famele words',str(Female_Words), sep='\\n\\n')\n",
    "print(\"\")\n",
    "print('male words',str(Male_Words), sep='\\n\\n')\n",
    "print(\"\")\n",
    "print('Brand words',str(Brand_words), sep='\\n\\n')"
   ]
  },
  {
   "cell_type": "code",
   "execution_count": 66,
   "id": "9547941d",
   "metadata": {},
   "outputs": [
    {
     "data": {
      "text/plain": [
       "<AxesSubplot:>"
      ]
     },
     "execution_count": 66,
     "metadata": {},
     "output_type": "execute_result"
    },
    {
     "data": {
      "image/png": "[encoded data removed]",
      "text/plain": [
       "<Figure size 432x288 with 1 Axes>"
      ]
     },
     "metadata": {
      "needs_background": "light"
     },
     "output_type": "display_data"
    }
   ],
   "source": [
    "Female_Words.plot(kind='bar',stacked=True, colormap='Pastel1')"
   ]
  },
  {
   "cell_type": "code",
   "execution_count": 67,
   "id": "6d3e3276",
   "metadata": {},
   "outputs": [
    {
     "data": {
      "text/plain": [
       "<AxesSubplot:>"
      ]
     },
     "execution_count": 67,
     "metadata": {},
     "output_type": "execute_result"
    },
    {
     "data": {
      "image/png": "[encoded data removed]",
      "text/plain": [
       "<Figure size 432x288 with 1 Axes>"
      ]
     },
     "metadata": {
      "needs_background": "light"
     },
     "output_type": "display_data"
    }
   ],
   "source": [
    "Male_Words.plot(kind='bar',stacked=True, colormap='Paired')"
   ]
  },
  {
   "cell_type": "code",
   "execution_count": 68,
   "id": "448fd941",
   "metadata": {},
   "outputs": [
    {
     "data": {
      "text/plain": [
       "<AxesSubplot:>"
      ]
     },
     "execution_count": 68,
     "metadata": {},
     "output_type": "execute_result"
    },
    {
     "data": {
      "image/png": "[encoded data removed]",
      "text/plain": [
       "<Figure size 432x288 with 1 Axes>"
      ]
     },
     "metadata": {
      "needs_background": "light"
     },
     "output_type": "display_data"
    }
   ],
   "source": [
    "Brand_words.plot(kind='bar',stacked=True, colormap='Pastel2')"
   ]
  },
  {
   "cell_type": "code",
   "execution_count": 95,
   "id": "8faa0e39",
   "metadata": {},
   "outputs": [
    {
     "data": {
      "text/plain": [
       "<AxesSubplot:>"
      ]
     },
     "execution_count": 95,
     "metadata": {},
     "output_type": "execute_result"
    },
    {
     "data": {
      "image/png": "[encoded data removed]",
      "text/plain": [
       "<Figure size 432x288 with 1 Axes>"
      ]
     },
     "metadata": {
      "needs_background": "light"
     },
     "output_type": "display_data"
    }
   ],
   "source": [
    "#A common word between female , male\n",
    "Female_Words.plot(kind='bar',stacked=True, colormap='Pastel1')\n",
    "Male_Words.plot(kind='bar',stacked=True, colormap='Paired')"
   ]
  },
  {
   "cell_type": "code",
   "execution_count": 86,
   "id": "8e05a1f7",
   "metadata": {},
   "outputs": [
    {
     "name": "stdout",
     "output_type": "stream",
     "text": [
      "              precision    recall  f1-score   support\n",
      "\n",
      "       brand       0.63      0.66      0.64       846\n",
      "      female       0.54      0.67      0.60      1140\n",
      "        male       0.54      0.45      0.49      1103\n",
      "     unknown       0.00      0.00      0.00       156\n",
      "\n",
      "    accuracy                           0.56      3245\n",
      "   macro avg       0.43      0.45      0.43      3245\n",
      "weighted avg       0.54      0.56      0.55      3245\n",
      "\n"
     ]
    }
   ],
   "source": [
    "from sklearn import metrics\n",
    "print(metrics.classification_report(test_y, y_pred))"
   ]
  }
 ],
 "metadata": {
  "kernelspec": {
   "display_name": "Python 3",
   "language": "python",
   "name": "python3"
  },
  "language_info": {
   "codemirror_mode": {
    "name": "ipython",
    "version": 3
   },
   "file_extension": ".py",
   "mimetype": "text/x-python",
   "name": "python",
   "nbconvert_exporter": "python",
   "pygments_lexer": "ipython3",
   "version": "3.8.8"
  }
 },
 "nbformat": 4,
 "nbformat_minor": 5
}
